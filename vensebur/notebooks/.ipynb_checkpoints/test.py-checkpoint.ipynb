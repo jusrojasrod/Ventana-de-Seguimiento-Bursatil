{
 "cells": [
  {
   "cell_type": "code",
   "execution_count": 6,
   "id": "bcc63fd5-b458-492c-8959-f8e5c98effba",
   "metadata": {
    "tags": []
   },
   "outputs": [
    {
     "name": "stdout",
     "output_type": "stream",
     "text": [
      "The autoreload extension is already loaded. To reload it, use:\n",
      "  %reload_ext autoreload\n"
     ]
    },
    {
     "ename": "ModuleNotFoundError",
     "evalue": "No module named 'vensebur'",
     "output_type": "error",
     "traceback": [
      "\u001b[1;31m---------------------------------------------------------------------------\u001b[0m",
      "\u001b[1;31mModuleNotFoundError\u001b[0m                       Traceback (most recent call last)",
      "Cell \u001b[1;32mIn[6], line 14\u001b[0m\n\u001b[0;32m     10\u001b[0m \u001b[38;5;28;01mimport\u001b[39;00m \u001b[38;5;21;01mos\u001b[39;00m\n\u001b[0;32m     12\u001b[0m \u001b[38;5;66;03m# local application imports\u001b[39;00m\n\u001b[0;32m     13\u001b[0m \u001b[38;5;66;03m# from .EODHDdata.data import download\u001b[39;00m\n\u001b[1;32m---> 14\u001b[0m \u001b[38;5;28;01mfrom\u001b[39;00m \u001b[38;5;21;01mvensebur\u001b[39;00m\u001b[38;5;21;01m.\u001b[39;00m\u001b[38;5;21;01mEODHDdata\u001b[39;00m \u001b[38;5;28;01mimport\u001b[39;00m download\n",
      "\u001b[1;31mModuleNotFoundError\u001b[0m: No module named 'vensebur'"
     ]
    }
   ],
   "source": [
    "%load_ext autoreload\n",
    "%autoreload 2\n",
    "\n",
    "#import standart libraries\n",
    "import pandas as pd\n",
    "import numpy as np\n",
    "import matplotlib.pyplot as plt\n",
    "from datetime import date\n",
    "from datetime import datetime\n",
    "import os\n",
    "\n",
    "# local application imports\n",
    "# from .EODHDdata.data import download\n",
    "from vensebur.EODHDdata import download\n",
    "# import vensebur.indicators"
   ]
  },
  {
   "cell_type": "code",
   "execution_count": null,
   "id": "2a129a03-0c74-4adb-b125-61406a9ad7cc",
   "metadata": {},
   "outputs": [],
   "source": [
    "from .my_module import sub_module\n",
    "from .my_module import sub_module"
   ]
  }
 ],
 "metadata": {
  "kernelspec": {
   "display_name": "Python 3 (ipykernel)",
   "language": "python",
   "name": "python3"
  },
  "language_info": {
   "codemirror_mode": {
    "name": "ipython",
    "version": 3
   },
   "file_extension": ".py",
   "mimetype": "text/x-python",
   "name": "python",
   "nbconvert_exporter": "python",
   "pygments_lexer": "ipython3",
   "version": "3.11.5"
  }
 },
 "nbformat": 4,
 "nbformat_minor": 5
}
